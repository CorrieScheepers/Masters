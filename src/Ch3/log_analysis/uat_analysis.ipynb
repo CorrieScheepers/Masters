{
 "cells": [
  {
   "cell_type": "code",
   "execution_count": 125,
   "metadata": {},
   "outputs": [],
   "source": [
    "import pandas as pd\n",
    "import numpy as np \n",
    "import matplotlib.pyplot as plt \n",
    "import seaborn as sns\n",
    "import pandas as pd\n",
    "from functools import reduce"
   ]
  },
  {
   "cell_type": "code",
   "execution_count": 126,
   "metadata": {},
   "outputs": [],
   "source": [
    "directory = '../../../Chapters/tables/'\n",
    "\n",
    "def getBaseProjectData():\n",
    "    \"\"\"\n",
    "    Gets the base data for the project\n",
    "\n",
    "    Returns:\n",
    "    A dataframe with user activities\n",
    "    \"\"\"\n",
    "    systemsData = pd.read_csv(\"../data/uat_raw/systems.csv\")\n",
    "    projectBaseData = pd.read_csv(\"../data/uat_raw/uat1.csv\")\n",
    "    users = pd.read_csv(\"../data/uat_raw/users.csv\")\n",
    "\n",
    "    temp = pd.merge(systemsData, projectBaseData,on='SubSystemId')\n",
    "    temp = pd.merge(users, temp, on='UserId')\n",
    "    return temp.loc[temp['Project'] == 1], temp.loc[temp['Project'] == 2];\n",
    "\n",
    "def getNormilisedBySecondCriteria(data, secondFilter):\n",
    "    temp = data.groupby(['SubSystemId',secondFilter]).size().reset_index(name='Count')\n",
    "    pivoted_df = temp.pivot_table(index='SubSystemId', columns=secondFilter,\n",
    "     values='Count', fill_value=0)\n",
    "    return pivoted_df\n",
    "\n",
    "def getNormalisedByTotal(data):\n",
    "    temp = data.groupby(['SubSystemId']).agg(Priority=('Priority', 'mean'), Count=('SubSystemId', 'count')).reset_index()\n",
    "    temp['NormalisedCount'] = temp['Count'].apply(lambda x: \n",
    "        (x-temp['Count'].min())/(temp['Count'].max()-temp['Count'].min()))\n",
    "\n",
    "    temp['MaintenanceFactor'] = temp.apply(lambda row: row['NormalisedCount'] * row['Priority'], axis=1)\n",
    "    return temp"
   ]
  },
  {
   "cell_type": "code",
   "execution_count": 127,
   "metadata": {},
   "outputs": [],
   "source": [
    "# Get project actvities\n",
    "projectA, projectB = getBaseProjectData()\n",
    "\n",
    "# Get project total activities per project\n",
    "projectA_Normilised = getNormalisedByTotal(projectA)\n",
    "projectB_Normilised = getNormalisedByTotal(projectA)\n",
    "projectA_ByActivityType = getNormilisedBySecondCriteria(projectA, 'ActivityType')\n",
    "projectB_ByActivityType = getNormilisedBySecondCriteria(projectB, 'ActivityType')"
   ]
  },
  {
   "cell_type": "code",
   "execution_count": 128,
   "metadata": {},
   "outputs": [],
   "source": [
    "def createLatexRows(data, filename, caption):\n",
    "    latex_rows = ''\n",
    "    for index, row in data.iterrows():\n",
    "        latex_rows += '\\n {:d} & {:d} & {:d} & {:.4f} & {:.4f} \\\\\\ \\\\hline'.format(int(row['SubSystemId']), int(row['Priority']), int(row['Count']), row['NormalisedCount'], row['MaintenanceFactor'])\n",
    "\n",
    "    header = r\"\"\"\n",
    "    \\begin{xltabular}{\\textwidth}{|X|X|X|X|X|}\n",
    "        \\caption[%s]\n",
    "        {\\textit{%s}}\n",
    "        \\label{tbl:apx_%s} \\\\\n",
    "        \n",
    "        \\hline\n",
    "        \\textbf{Subsystem} & \\textbf{Priorty}  & \\textbf{Actvities} & \\textbf{Normalised Actvity} & \\textbf{Maintenance Actvity} \\\\\n",
    "        \\hline\n",
    "        \\endfirsthead\n",
    "\n",
    "        \\multicolumn{5}{c}\n",
    "        {\\tablename\\ \\thetable{} -- continued from previous page} \\\\\n",
    "        \\hline\n",
    "        \\textbf{Subsystem} & \\textbf{Priorty}  & \\textbf{Actvities} & \\textbf{Normalised Actvity} & \\textbf{Maintenance Actvity} \\\\ \n",
    "        \\endhead\n",
    "\n",
    "        \\multicolumn{5}{|r|}{{Continued on next page}} \\\\ \\hline\n",
    "        \\endfoot\n",
    "\n",
    "        \\hline\n",
    "        \\endlastfoot\n",
    "    \"\"\" % (caption, caption, filename) \n",
    "    \n",
    "    table = header + latex_rows.strip() + r\"\"\"\n",
    "    \\end{xltabular}\n",
    "    \"\"\"\n",
    "\n",
    "    filepath = directory + filename + '.tex'\n",
    "\n",
    "    # Write the latex_rows string to the file\n",
    "    with open(filepath, 'w') as f:\n",
    "        f.write(table)\n",
    "\n",
    "\n",
    "createLatexRows(projectA_Normilised, \"projectA_Normilised\", \"Case study A results\")\n"
   ]
  }
 ],
 "metadata": {
  "kernelspec": {
   "display_name": "Python 3",
   "language": "python",
   "name": "python3"
  },
  "language_info": {
   "codemirror_mode": {
    "name": "ipython",
    "version": 3
   },
   "file_extension": ".py",
   "mimetype": "text/x-python",
   "name": "python",
   "nbconvert_exporter": "python",
   "pygments_lexer": "ipython3",
   "version": "3.10.4"
  },
  "orig_nbformat": 4
 },
 "nbformat": 4,
 "nbformat_minor": 2
}
