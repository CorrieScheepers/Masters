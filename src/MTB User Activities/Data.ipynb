{
 "metadata": {
  "language_info": {
   "codemirror_mode": {
    "name": "ipython",
    "version": 3
   },
   "file_extension": ".py",
   "mimetype": "text/x-python",
   "name": "python",
   "nbconvert_exporter": "python",
   "pygments_lexer": "ipython3",
   "version": "3.8.3-final"
  },
  "orig_nbformat": 2,
  "kernelspec": {
   "name": "python38364bit34fffe5539b4431f914b82ff28955678",
   "display_name": "Python 3.8.3 64-bit"
  }
 },
 "nbformat": 4,
 "nbformat_minor": 2,
 "cells": [
  {
   "cell_type": "code",
   "execution_count": 89,
   "metadata": {},
   "outputs": [],
   "source": [
    "import mysql.connector as MySQL\n",
    "import pandas as pd \n",
    "import numpy as np\n",
    "\n",
    "lDatabase = MySQL.connect(host='localhost', user='root', password='Hvacint001', database='mtb_database')"
   ]
  },
  {
   "cell_type": "code",
   "execution_count": 90,
   "metadata": {},
   "outputs": [],
   "source": [
    "# User Actvities\n",
    "lQuery = \"SELECT lma_ID, lma_Time, fk_d_ID, fk_u_ID, lma_ViewAsID, lma_File, lma_ActivityType FROM mtb_database.Log_MTBActivity;\"\n",
    "MTBUserActivities = pd.read_sql(lQuery, con=lDatabase)\n",
    "MTBUserActivities[\"fk_d_ID\"] = MTBUserActivities[\"fk_d_ID\"].fillna(0).astype(int)"
   ]
  },
  {
   "cell_type": "code",
   "execution_count": 91,
   "metadata": {},
   "outputs": [],
   "source": [
    "# User rights\n",
    "lQuery = \"SELECT id, firstname, surname, groupid, isDeleted, fk_ut_ID FROM mtb_database.mt_Users WHERE fk_ut_ID NOT IN (2,3,6);\"\n",
    "Users = pd.read_sql(lQuery, con=lDatabase)\n",
    "\n",
    "# Developer Rights\n",
    "lQuery = \"SELECT fk_u_ID FROM mtb_database.mt_UserLINKRight WHERE fk_ur_ID = 59\"\n",
    "DeveloperRights = pd.read_sql(lQuery, con=lDatabase)\n",
    "\n",
    "# Contract MTB Groups\n",
    "lQuery = \"SELECT id, firstname, surname, groupid, isDeleted, fk_ut_ID FROM mtb_database.mt_Users WHERE fk_ut_ID IN (2,3,6);\"\n",
    "ContractGroups = pd.read_sql(lQuery, con=lDatabase)"
   ]
  },
  {
   "cell_type": "code",
   "execution_count": 92,
   "metadata": {},
   "outputs": [],
   "source": [
    "# Toolboxes\n",
    "lQuery = \"SELECT d_ID, d_Key, d_Name FROM mtb_database.mt_Dashboard;\"\n",
    "Dashboard = pd.read_sql(lQuery, con=lDatabase)\n",
    "\n",
    "# Toolboxes\n",
    "lQuery = \"SELECT * FROM mtb_database.mt_Toolbox;\"\n",
    "Toolboxes = pd.read_sql(lQuery, con=lDatabase)\n",
    "\n",
    "# Toolbox link\n",
    "lQuery = \"SELECT * FROM mtb_database.mt_ToolboxLINKDashboard;\"\n",
    "DashboardLink = pd.read_sql(lQuery, con=lDatabase)"
   ]
  },
  {
   "cell_type": "code",
   "execution_count": 93,
   "metadata": {
    "tags": []
   },
   "outputs": [],
   "source": [
    "#lOfficialGroups = ContractGroups.drop_duplicates([\"groupid\"])\n",
    "#lNonETAUsers = Users.loc[Users[\"id\"].isin(MTBUserActivities[\"fk_u_ID\"].unique().tolist()) & ~Users[\"groupid\"].isin([8])]\n",
    "#for aIndex, aRow in lNonETAUsers.iterrows():\n",
    " #   MTBUserActivities.loc[MTBUserActivities[\"lma_ViewAsID\"] == aRow[\"id\"], \"ViewGroupID\"] = lOfficialGroups.loc[lOfficialGroups[\"groupid\"] == aRow[\"groupid\"], \"id\"].item()\n",
    "\n",
    "#lOtherIDs = np.unique(np.where(MTBUserActivities.isnull()[\"ViewGroupID\"], MTBUserActivities[\"lma_ViewAsID\"], MTBUserActivities[\"ViewGroupID\"]).astype(int))\n",
    "\n",
    "#for aViewAsID in lOtherIDs:\n",
    " #   print(aViewAsID)\n",
    " #   MTBUserActivities.loc[MTBUserActivities[\"lma_ViewAsID\"] == aViewAsID, \"ViewGroupID\"] = lOfficialGroups.loc[lOfficialGroups[\"id\"] == aViewAsID, \"groupid\"].item()\n",
    "\n",
    "#MTBUserActivities.loc[MTBUserActivities.isnull()[\"ViewGroupID\"], \"\"]\n",
    "#MTBUserActivities[\"ViewGroupID\"] = MTBUserActivities[\"ViewGroupID\"].fillna(0).astype(int)\n",
    "#MTBUserActivities.head()"
   ]
  },
  {
   "cell_type": "code",
   "execution_count": null,
   "metadata": {},
   "outputs": [],
   "source": []
  }
 ]
}